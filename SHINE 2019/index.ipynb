{
 "cells": [
  {
   "cell_type": "markdown",
   "metadata": {},
   "source": [
    "# Using SunPy and HelioPy to work with remote and in situ data\n",
    "\n",
    "To create an online Jupyter environment to follow along with this tutorial, go to: **[https://tinyurl.com/y5wctycu](https://tinyurl.com/y5wctycu)**"
   ]
  },
  {
   "cell_type": "markdown",
   "metadata": {},
   "source": [
    "## [Tutorial Notebook](./shine.ipynb)"
   ]
  },
  {
   "cell_type": "markdown",
   "metadata": {},
   "source": [
    "### Useful links "
   ]
  },
  {
   "cell_type": "markdown",
   "metadata": {},
   "source": [
    " * [Completed SunPy/HelioPy tutorial notebook](./shine_instructor.ipynb)\n",
    " * SunPy [documentation](http://docs.sunpy.org/en/stable/) and [Matrix room](https://riot.im/app/#/room/#sunpy:openastronomy.org)\n",
    " * HelioPy [documentation](https://docs.heliopy.org/en/stable/) and [Matrix room](https://riot.im/app/#/room/#heliopy:matrix.org)\n",
    " * [Python in Heliophysics Community (PyHC)](http://heliopython.org) (with a [gallery](http://heliopython.org/gallery/generated/gallery/index.html) of examples)\n"
   ]
  }
 ],
 "metadata": {
  "kernelspec": {
   "display_name": "Python 3",
   "language": "python",
   "name": "python3"
  },
  "language_info": {
   "codemirror_mode": {
    "name": "ipython",
    "version": 3
   },
   "file_extension": ".py",
   "mimetype": "text/x-python",
   "name": "python",
   "nbconvert_exporter": "python",
   "pygments_lexer": "ipython3",
   "version": "3.7.4"
  }
 },
 "nbformat": 4,
 "nbformat_minor": 2
}
